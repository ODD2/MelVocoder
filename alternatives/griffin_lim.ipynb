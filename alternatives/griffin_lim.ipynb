{
 "cells": [
  {
   "cell_type": "code",
   "execution_count": 1,
   "metadata": {},
   "outputs": [],
   "source": [
    "import os\n",
    "import torch\n",
    "import random\n",
    "import librosa\n",
    "import torchaudio\n",
    "import numpy as np\n",
    "from glob import glob"
   ]
  },
  {
   "cell_type": "code",
   "execution_count": null,
   "metadata": {},
   "outputs": [],
   "source": [
    "from tqdm import tqdm\n",
    "from librosa.feature.inverse import mel_to_audio\n",
    "from preprocess import n_fft, hop_size, win_size, sampling_rate, fmin, fmax, num_mels, load_audio\n",
    "from IPython.display import Audio"
   ]
  },
  {
   "cell_type": "code",
   "execution_count": null,
   "metadata": {},
   "outputs": [],
   "source": [
    "files = sorted(glob(\"dataset/mel/train/*.npy\"))"
   ]
  },
  {
   "cell_type": "code",
   "execution_count": null,
   "metadata": {},
   "outputs": [],
   "source": [
    "for src in tqdm(files):\n",
    "    dst = src.replace(\"dataset/mel/\", \"audios/try_grifflim/\").replace(\".npy\", \".wav\")\n",
    "\n",
    "    if os.path.exists(dst):\n",
    "        continue\n",
    "\n",
    "    mel = np.load(src)\n",
    "    audio = mel_to_audio(\n",
    "        mel,\n",
    "        sr=sampling_rate,\n",
    "        n_fft=n_fft,\n",
    "        hop_length=hop_size,\n",
    "        win_length=win_size,\n",
    "        fmin=fmin,\n",
    "        fmax=fmax,\n",
    "        n_iter=1,\n",
    "        pad_mode=\"reflect\",\n",
    "        htk=True\n",
    "    )\n",
    "\n",
    "    os.makedirs(os.path.split(dst)[0], exist_ok=True)\n",
    "    audio = audio / audio.max()\n",
    "    torchaudio.save(\n",
    "        uri=dst,\n",
    "        src=torch.from_numpy(audio).view(1, -1),\n",
    "        sample_rate=sampling_rate\n",
    "    )"
   ]
  },
  {
   "cell_type": "code",
   "execution_count": null,
   "metadata": {},
   "outputs": [],
   "source": [
    "# for src in tqdm(sorted(glob(\"dataset/audio/valid/*.wav\"))):\n",
    "#     audio = load_audio(src,sampling_rate,True)\n",
    "#     torchaudio.save(\n",
    "#         uri=src,\n",
    "#         src=audio,\n",
    "#         sample_rate=sampling_rate\n",
    "#     )"
   ]
  },
  {
   "cell_type": "code",
   "execution_count": null,
   "metadata": {},
   "outputs": [],
   "source": []
  }
 ],
 "metadata": {
  "kernelspec": {
   "display_name": "vocoder",
   "language": "python",
   "name": "python3"
  },
  "language_info": {
   "codemirror_mode": {
    "name": "ipython",
    "version": 3
   },
   "file_extension": ".py",
   "mimetype": "text/x-python",
   "name": "python",
   "nbconvert_exporter": "python",
   "pygments_lexer": "ipython3",
   "version": "3.8.18"
  }
 },
 "nbformat": 4,
 "nbformat_minor": 2
}
